{
 "cells": [
  {
   "cell_type": "code",
   "execution_count": 1,
   "metadata": {},
   "outputs": [],
   "source": [
    "import numpy as np\n",
    "import pandas as pd\n",
    "import matplotlib.pyplot as plt\n",
    "import matplotlib.style as stl\n",
    "from sklearn.datasets import load_boston\n",
    "import seaborn as sns"
   ]
  },
  {
   "cell_type": "markdown",
   "metadata": {},
   "source": [
    "importing dataset"
   ]
  },
  {
   "cell_type": "code",
   "execution_count": 2,
   "metadata": {},
   "outputs": [],
   "source": [
    "url='https://archive.ics.uci.edu/ml/machine-learning-databases/housing/housing.data'\n",
    "names=['CRIM','ZN','INDUS','CHAS','NOX','RM','AGE','DIS','RAD','TAX','PTRATIO','B 1000(Bk - 0.63)^2','LSTAT %','MEDV']\n",
    "df=pd.read_csv(url,names=names,sep='\\s+')"
   ]
  },
  {
   "cell_type": "code",
   "execution_count": 3,
   "metadata": {},
   "outputs": [
    {
     "data": {
      "text/html": [
       "<div>\n",
       "<style scoped>\n",
       "    .dataframe tbody tr th:only-of-type {\n",
       "        vertical-align: middle;\n",
       "    }\n",
       "\n",
       "    .dataframe tbody tr th {\n",
       "        vertical-align: top;\n",
       "    }\n",
       "\n",
       "    .dataframe thead th {\n",
       "        text-align: right;\n",
       "    }\n",
       "</style>\n",
       "<table border=\"1\" class=\"dataframe\">\n",
       "  <thead>\n",
       "    <tr style=\"text-align: right;\">\n",
       "      <th></th>\n",
       "      <th>CRIM</th>\n",
       "      <th>ZN</th>\n",
       "      <th>INDUS</th>\n",
       "      <th>CHAS</th>\n",
       "      <th>NOX</th>\n",
       "      <th>RM</th>\n",
       "      <th>AGE</th>\n",
       "      <th>DIS</th>\n",
       "      <th>RAD</th>\n",
       "      <th>TAX</th>\n",
       "      <th>PTRATIO</th>\n",
       "      <th>B 1000(Bk - 0.63)^2</th>\n",
       "      <th>LSTAT %</th>\n",
       "      <th>MEDV</th>\n",
       "    </tr>\n",
       "  </thead>\n",
       "  <tbody>\n",
       "    <tr>\n",
       "      <th>0</th>\n",
       "      <td>0.00632</td>\n",
       "      <td>18.0</td>\n",
       "      <td>2.31</td>\n",
       "      <td>0</td>\n",
       "      <td>0.538</td>\n",
       "      <td>6.575</td>\n",
       "      <td>65.2</td>\n",
       "      <td>4.0900</td>\n",
       "      <td>1</td>\n",
       "      <td>296.0</td>\n",
       "      <td>15.3</td>\n",
       "      <td>396.90</td>\n",
       "      <td>4.98</td>\n",
       "      <td>24.0</td>\n",
       "    </tr>\n",
       "    <tr>\n",
       "      <th>1</th>\n",
       "      <td>0.02731</td>\n",
       "      <td>0.0</td>\n",
       "      <td>7.07</td>\n",
       "      <td>0</td>\n",
       "      <td>0.469</td>\n",
       "      <td>6.421</td>\n",
       "      <td>78.9</td>\n",
       "      <td>4.9671</td>\n",
       "      <td>2</td>\n",
       "      <td>242.0</td>\n",
       "      <td>17.8</td>\n",
       "      <td>396.90</td>\n",
       "      <td>9.14</td>\n",
       "      <td>21.6</td>\n",
       "    </tr>\n",
       "    <tr>\n",
       "      <th>2</th>\n",
       "      <td>0.02729</td>\n",
       "      <td>0.0</td>\n",
       "      <td>7.07</td>\n",
       "      <td>0</td>\n",
       "      <td>0.469</td>\n",
       "      <td>7.185</td>\n",
       "      <td>61.1</td>\n",
       "      <td>4.9671</td>\n",
       "      <td>2</td>\n",
       "      <td>242.0</td>\n",
       "      <td>17.8</td>\n",
       "      <td>392.83</td>\n",
       "      <td>4.03</td>\n",
       "      <td>34.7</td>\n",
       "    </tr>\n",
       "    <tr>\n",
       "      <th>3</th>\n",
       "      <td>0.03237</td>\n",
       "      <td>0.0</td>\n",
       "      <td>2.18</td>\n",
       "      <td>0</td>\n",
       "      <td>0.458</td>\n",
       "      <td>6.998</td>\n",
       "      <td>45.8</td>\n",
       "      <td>6.0622</td>\n",
       "      <td>3</td>\n",
       "      <td>222.0</td>\n",
       "      <td>18.7</td>\n",
       "      <td>394.63</td>\n",
       "      <td>2.94</td>\n",
       "      <td>33.4</td>\n",
       "    </tr>\n",
       "    <tr>\n",
       "      <th>4</th>\n",
       "      <td>0.06905</td>\n",
       "      <td>0.0</td>\n",
       "      <td>2.18</td>\n",
       "      <td>0</td>\n",
       "      <td>0.458</td>\n",
       "      <td>7.147</td>\n",
       "      <td>54.2</td>\n",
       "      <td>6.0622</td>\n",
       "      <td>3</td>\n",
       "      <td>222.0</td>\n",
       "      <td>18.7</td>\n",
       "      <td>396.90</td>\n",
       "      <td>5.33</td>\n",
       "      <td>36.2</td>\n",
       "    </tr>\n",
       "    <tr>\n",
       "      <th>5</th>\n",
       "      <td>0.02985</td>\n",
       "      <td>0.0</td>\n",
       "      <td>2.18</td>\n",
       "      <td>0</td>\n",
       "      <td>0.458</td>\n",
       "      <td>6.430</td>\n",
       "      <td>58.7</td>\n",
       "      <td>6.0622</td>\n",
       "      <td>3</td>\n",
       "      <td>222.0</td>\n",
       "      <td>18.7</td>\n",
       "      <td>394.12</td>\n",
       "      <td>5.21</td>\n",
       "      <td>28.7</td>\n",
       "    </tr>\n",
       "    <tr>\n",
       "      <th>6</th>\n",
       "      <td>0.08829</td>\n",
       "      <td>12.5</td>\n",
       "      <td>7.87</td>\n",
       "      <td>0</td>\n",
       "      <td>0.524</td>\n",
       "      <td>6.012</td>\n",
       "      <td>66.6</td>\n",
       "      <td>5.5605</td>\n",
       "      <td>5</td>\n",
       "      <td>311.0</td>\n",
       "      <td>15.2</td>\n",
       "      <td>395.60</td>\n",
       "      <td>12.43</td>\n",
       "      <td>22.9</td>\n",
       "    </tr>\n",
       "    <tr>\n",
       "      <th>7</th>\n",
       "      <td>0.14455</td>\n",
       "      <td>12.5</td>\n",
       "      <td>7.87</td>\n",
       "      <td>0</td>\n",
       "      <td>0.524</td>\n",
       "      <td>6.172</td>\n",
       "      <td>96.1</td>\n",
       "      <td>5.9505</td>\n",
       "      <td>5</td>\n",
       "      <td>311.0</td>\n",
       "      <td>15.2</td>\n",
       "      <td>396.90</td>\n",
       "      <td>19.15</td>\n",
       "      <td>27.1</td>\n",
       "    </tr>\n",
       "    <tr>\n",
       "      <th>8</th>\n",
       "      <td>0.21124</td>\n",
       "      <td>12.5</td>\n",
       "      <td>7.87</td>\n",
       "      <td>0</td>\n",
       "      <td>0.524</td>\n",
       "      <td>5.631</td>\n",
       "      <td>100.0</td>\n",
       "      <td>6.0821</td>\n",
       "      <td>5</td>\n",
       "      <td>311.0</td>\n",
       "      <td>15.2</td>\n",
       "      <td>386.63</td>\n",
       "      <td>29.93</td>\n",
       "      <td>16.5</td>\n",
       "    </tr>\n",
       "    <tr>\n",
       "      <th>9</th>\n",
       "      <td>0.17004</td>\n",
       "      <td>12.5</td>\n",
       "      <td>7.87</td>\n",
       "      <td>0</td>\n",
       "      <td>0.524</td>\n",
       "      <td>6.004</td>\n",
       "      <td>85.9</td>\n",
       "      <td>6.5921</td>\n",
       "      <td>5</td>\n",
       "      <td>311.0</td>\n",
       "      <td>15.2</td>\n",
       "      <td>386.71</td>\n",
       "      <td>17.10</td>\n",
       "      <td>18.9</td>\n",
       "    </tr>\n",
       "  </tbody>\n",
       "</table>\n",
       "</div>"
      ],
      "text/plain": [
       "      CRIM    ZN  INDUS  CHAS    NOX     RM    AGE     DIS  RAD    TAX  \\\n",
       "0  0.00632  18.0   2.31     0  0.538  6.575   65.2  4.0900    1  296.0   \n",
       "1  0.02731   0.0   7.07     0  0.469  6.421   78.9  4.9671    2  242.0   \n",
       "2  0.02729   0.0   7.07     0  0.469  7.185   61.1  4.9671    2  242.0   \n",
       "3  0.03237   0.0   2.18     0  0.458  6.998   45.8  6.0622    3  222.0   \n",
       "4  0.06905   0.0   2.18     0  0.458  7.147   54.2  6.0622    3  222.0   \n",
       "5  0.02985   0.0   2.18     0  0.458  6.430   58.7  6.0622    3  222.0   \n",
       "6  0.08829  12.5   7.87     0  0.524  6.012   66.6  5.5605    5  311.0   \n",
       "7  0.14455  12.5   7.87     0  0.524  6.172   96.1  5.9505    5  311.0   \n",
       "8  0.21124  12.5   7.87     0  0.524  5.631  100.0  6.0821    5  311.0   \n",
       "9  0.17004  12.5   7.87     0  0.524  6.004   85.9  6.5921    5  311.0   \n",
       "\n",
       "   PTRATIO  B 1000(Bk - 0.63)^2  LSTAT %  MEDV  \n",
       "0     15.3               396.90     4.98  24.0  \n",
       "1     17.8               396.90     9.14  21.6  \n",
       "2     17.8               392.83     4.03  34.7  \n",
       "3     18.7               394.63     2.94  33.4  \n",
       "4     18.7               396.90     5.33  36.2  \n",
       "5     18.7               394.12     5.21  28.7  \n",
       "6     15.2               395.60    12.43  22.9  \n",
       "7     15.2               396.90    19.15  27.1  \n",
       "8     15.2               386.63    29.93  16.5  \n",
       "9     15.2               386.71    17.10  18.9  "
      ]
     },
     "execution_count": 3,
     "metadata": {},
     "output_type": "execute_result"
    }
   ],
   "source": [
    "df.head(10)"
   ]
  },
  {
   "cell_type": "code",
   "execution_count": 83,
   "metadata": {},
   "outputs": [],
   "source": [
    "#sns.pairplot(df)"
   ]
  },
  {
   "cell_type": "code",
   "execution_count": 4,
   "metadata": {},
   "outputs": [
    {
     "data": {
      "text/plain": [
       "(506, 13)"
      ]
     },
     "execution_count": 4,
     "metadata": {},
     "output_type": "execute_result"
    }
   ],
   "source": [
    "x=df.iloc[:,:-1].values\n",
    "y=df.iloc[:,-1].values\n",
    "x.shape"
   ]
  },
  {
   "cell_type": "code",
   "execution_count": 5,
   "metadata": {},
   "outputs": [],
   "source": [
    "#print(pd.DataFrame(x))"
   ]
  },
  {
   "cell_type": "markdown",
   "metadata": {},
   "source": [
    "Splitting datasets in training and test set"
   ]
  },
  {
   "cell_type": "code",
   "execution_count": 6,
   "metadata": {},
   "outputs": [],
   "source": [
    "from sklearn.model_selection import train_test_split\n",
    "validation=0.20\n",
    "seed=42\n",
    "x_train,x_test,y_train,y_test=train_test_split(x,y,test_size=validation,random_state=seed)\n",
    "#np.transpose(x_train).shape"
   ]
  },
  {
   "cell_type": "code",
   "execution_count": 7,
   "metadata": {},
   "outputs": [],
   "source": [
    "#y_test=y_test.reshape(-1,1)\n",
    "#y_train=y_train.reshape(-1,1)"
   ]
  },
  {
   "cell_type": "markdown",
   "metadata": {},
   "source": [
    "Feature scaling of data"
   ]
  },
  {
   "cell_type": "code",
   "execution_count": 8,
   "metadata": {},
   "outputs": [],
   "source": [
    "# from sklearn.preprocessing import StandardScaler\n",
    "# sc=StandardScaler()\n",
    "# x_train[::]=sc.fit_transform(x_train[::])\n",
    "# x_test[::]=sc.transform(x_test[::])\n",
    "# y_train[::]=sc.fit_transform(y_train[::])\n",
    "# y_test[::]=sc.transform(y_test[::])"
   ]
  },
  {
   "cell_type": "code",
   "execution_count": 9,
   "metadata": {},
   "outputs": [
    {
     "name": "stdout",
     "output_type": "stream",
     "text": [
      "[[1.50234e+01 0.00000e+00 1.81000e+01 ... 2.02000e+01 3.49480e+02\n",
      "  2.49100e+01]\n",
      " [6.27390e-01 0.00000e+00 8.14000e+00 ... 2.10000e+01 3.95620e+02\n",
      "  8.47000e+00]\n",
      " [3.46600e-02 3.50000e+01 6.06000e+00 ... 1.69000e+01 3.62250e+02\n",
      "  7.83000e+00]\n",
      " ...\n",
      " [1.50100e-02 8.00000e+01 2.01000e+00 ... 1.70000e+01 3.90940e+02\n",
      "  5.99000e+00]\n",
      " [1.11604e+01 0.00000e+00 1.81000e+01 ... 2.02000e+01 1.09850e+02\n",
      "  2.32700e+01]\n",
      " [2.28760e-01 0.00000e+00 8.56000e+00 ... 2.09000e+01 7.08000e+01\n",
      "  1.06300e+01]]\n",
      "[[9.17800e-02 0.00000e+00 4.05000e+00 ... 1.66000e+01 3.95500e+02\n",
      "  9.04000e+00]\n",
      " [5.64400e-02 4.00000e+01 6.41000e+00 ... 1.76000e+01 3.96900e+02\n",
      "  3.53000e+00]\n",
      " [1.05740e-01 0.00000e+00 2.77400e+01 ... 2.01000e+01 3.90110e+02\n",
      "  1.80700e+01]\n",
      " ...\n",
      " [1.40507e+01 0.00000e+00 1.81000e+01 ... 2.02000e+01 3.50500e+01\n",
      "  2.12200e+01]\n",
      " [5.18800e-02 0.00000e+00 4.49000e+00 ... 1.85000e+01 3.95990e+02\n",
      "  1.28600e+01]\n",
      " [9.51200e-02 0.00000e+00 1.28300e+01 ... 1.87000e+01 3.83230e+02\n",
      "  8.94000e+00]]\n"
     ]
    }
   ],
   "source": [
    "print(x_train)\n",
    "print(x_test)"
   ]
  },
  {
   "cell_type": "code",
   "execution_count": 10,
   "metadata": {},
   "outputs": [
    {
     "name": "stdout",
     "output_type": "stream",
     "text": [
      "[12.  19.9 19.4 13.4 18.2 24.6 21.1 24.7  8.7 27.5 20.7 36.2 31.6 11.7\n",
      " 39.8 13.9 21.8 23.7 17.6 24.4  8.8 19.2 25.3 20.4 23.1 37.9 15.6 45.4\n",
      " 15.7 22.6 14.5 18.7 17.8 16.1 20.6 31.6 29.1 15.6 17.5 22.5 19.4 19.3\n",
      "  8.5 20.6 17.  17.1 14.5 50.  14.3 12.6 28.7 21.2 19.3 23.1 19.1 25.\n",
      " 33.4  5.  29.6 18.7 21.7 23.1 22.8 21.  48.8 14.6 16.6 27.1 20.1 19.8\n",
      " 21.  41.3 23.2 20.4 18.5 29.4 36.4 24.4 11.8 13.8 12.3 17.8 33.1 26.7\n",
      " 13.4 14.4 50.  22.  19.9 23.8 17.5 12.7  5.6 31.1 26.2 19.4 16.7 13.8\n",
      " 22.9 15.3 27.5 36.1 22.9 24.5 25.  50.  34.9 31.7 24.1 22.1 14.1 42.8\n",
      " 19.3 32.2 26.4 21.8 21.7  8.3 46.7 43.1 31.5 10.5 16.7 20.  33.3 17.8\n",
      " 50.  20.5 23.2 13.1 19.6 22.8 28.7 30.7 22.9 21.9 23.9 32.7 24.3 21.5\n",
      " 24.6  8.5 26.4 23.1 15.   8.8 19.3 23.9 24.7 19.8 23.8 13.3 29.  27.1\n",
      " 34.6 13.3 15.6 12.5 14.6 11.  24.8 17.3  8.1 21.4 15.6 23.3 32.  38.7\n",
      " 30.1 20.5 32.5 42.3 24.3 20.6 22.  18.2 15.   6.3 20.1 21.4 28.4 30.1\n",
      " 20.8 23.  14.3 11.7 37.3 17.1 10.4 23.  22.7 20.3 21.7 50.   8.4 18.8\n",
      " 37.2 16.1 16.5 22.2 20.6 13.5 48.3 23.8 22.7 17.4 30.3 36.  41.7 18.3\n",
      " 22.  18.6 44.8 11.9 18.7 16.2 22.   7.2 20.4 13.8 13.  18.4 23.1 21.2\n",
      " 23.1 23.5 50.  26.6 22.2 50.   8.3 23.3 21.7 18.9 18.4 17.4 13.4 12.1\n",
      " 26.6 21.7 28.4 20.5 22.  13.9 11.3 29.9 26.6 10.5 23.2 24.4 46.  21.9\n",
      "  7.5 36.2 44.  17.8 27.5 37.6 14.1 28.1 10.2 19.1 43.8 27.9 25.  16.\n",
      " 16.6 13.2 50.  22.2 32.9 15.2 14.8 13.8 24.3 33.8 22.3 50.   9.5 13.3\n",
      " 22.2 18.1 18.  25.  16.5 23.  20.1 33.  24.8 18.2 13.1 34.9 10.2 19.9\n",
      " 27.9 23.3 35.1 12.8 22.  18.5 25.1 22.5 22.4 28.6 19.5 24.8 24.5 21.4\n",
      " 33.1 22.9 20.7 24.1 50.  24.7 28.7  7.2 37.  20.3 30.1 19.5 23.4 11.5\n",
      " 21.6 14.9 15.2 19.4  8.4 28.  22.6 13.5 14.5 31.  10.9 21.9 22.  19.\n",
      " 21.4 25.  17.5 36.5 20.1 20.4 16.2 23.6  7.4 35.2 50.  19.3 21.2 15.6\n",
      " 33.4 19.1 21.  23.7 18.9 16.8 19.7 17.7 22.6 11.8 34.9 20.6 20.2 32.\n",
      " 22.3 23.3 14.4 31.2 24.  29.6 19.6 21.6 20.  27.  33.2 15.4 30.5  7.2\n",
      " 23.9 16.3 23.9 50.  22.8 15.4 19.2 19.6 22.6 33.2 50.  22.2 14.9 19.8\n",
      " 23.7 19.  20.3 11.9 13.6 29.8 21.7 19.5 21.1 24.5 13.4 18.6]\n",
      "[23.6 32.4 13.6 22.8 16.1 20.  17.8 14.  19.6 16.8 21.5 18.9  7.  21.2\n",
      " 18.5 29.8 18.8 10.2 50.  14.1 25.2 29.1 12.7 22.4 14.2 13.8 20.3 14.9\n",
      " 21.7 18.3 23.1 23.8 15.  20.8 19.1 19.4 34.7 19.5 24.4 23.4 19.7 28.2\n",
      " 50.  17.4 22.6 15.1 13.1 24.2 19.9 24.  18.9 35.4 15.2 26.5 43.5 21.2\n",
      " 18.4 28.5 23.9 18.5 25.  35.4 31.5 20.2 24.1 20.  13.1 24.8 30.8 12.7\n",
      " 20.  23.7 10.8 20.6 20.8  5.  20.1 48.5 10.9  7.  20.9 17.2 20.9  9.7\n",
      " 19.4 29.  16.4 25.  25.  17.1 23.2 10.4 19.6 17.2 27.5 23.  50.  17.9\n",
      "  9.6 17.2 22.5 21.4]\n"
     ]
    }
   ],
   "source": [
    "print(y_train)\n",
    "print(y_test)"
   ]
  },
  {
   "cell_type": "markdown",
   "metadata": {},
   "source": [
    "Training model by multiplelinear regresion"
   ]
  },
  {
   "cell_type": "code",
   "execution_count": 11,
   "metadata": {},
   "outputs": [
    {
     "data": {
      "text/plain": [
       "LinearRegression(copy_X=True, fit_intercept=True, n_jobs=None, normalize=False)"
      ]
     },
     "execution_count": 11,
     "metadata": {},
     "output_type": "execute_result"
    }
   ],
   "source": [
    "from sklearn.linear_model import LinearRegression\n",
    "regressor=LinearRegression()\n",
    "regressor.fit(x_train,y_train)"
   ]
  },
  {
   "cell_type": "code",
   "execution_count": 12,
   "metadata": {},
   "outputs": [
    {
     "name": "stdout",
     "output_type": "stream",
     "text": [
      "[[ 2.89967236e+01  2.36000000e+01 -5.39672362e+00]\n",
      " [ 3.60255653e+01  3.24000000e+01 -3.62556534e+00]\n",
      " [ 1.48169440e+01  1.36000000e+01 -1.21694405e+00]\n",
      " [ 2.50319792e+01  2.28000000e+01 -2.23197915e+00]\n",
      " [ 1.87698799e+01  1.61000000e+01 -2.66987992e+00]\n",
      " [ 2.32544293e+01  2.00000000e+01 -3.25442929e+00]\n",
      " [ 1.76625382e+01  1.78000000e+01  1.37461818e-01]\n",
      " [ 1.43411900e+01  1.40000000e+01 -3.41190000e-01]\n",
      " [ 2.30132070e+01  1.96000000e+01 -3.41320703e+00]\n",
      " [ 2.06324560e+01  1.68000000e+01 -3.83245597e+00]\n",
      " [ 2.49085051e+01  2.15000000e+01 -3.40850512e+00]\n",
      " [ 1.86388365e+01  1.89000000e+01  2.61163547e-01]\n",
      " [-6.08842184e+00  7.00000000e+00  1.30884218e+01]\n",
      " [ 2.17583467e+01  2.12000000e+01 -5.58346681e-01]\n",
      " [ 1.92392258e+01  1.85000000e+01 -7.39225759e-01]\n",
      " [ 2.61931973e+01  2.98000000e+01  3.60680267e+00]\n",
      " [ 2.06477331e+01  1.88000000e+01 -1.84773313e+00]\n",
      " [ 5.79472718e+00  1.02000000e+01  4.40527282e+00]\n",
      " [ 4.05003397e+01  5.00000000e+01  9.49966034e+00]\n",
      " [ 1.76128907e+01  1.41000000e+01 -3.51289074e+00]\n",
      " [ 2.72490948e+01  2.52000000e+01 -2.04909479e+00]\n",
      " [ 3.00662544e+01  2.91000000e+01 -9.66254410e-01]\n",
      " [ 1.13417928e+01  1.27000000e+01  1.35820723e+00]\n",
      " [ 2.41607762e+01  2.24000000e+01 -1.76077616e+00]\n",
      " [ 1.78605850e+01  1.42000000e+01 -3.66058499e+00]\n",
      " [ 1.58360976e+01  1.38000000e+01 -2.03609765e+00]\n",
      " [ 2.27814811e+01  2.03000000e+01 -2.48148106e+00]\n",
      " [ 1.45770445e+01  1.49000000e+01  3.22955511e-01]\n",
      " [ 2.24362605e+01  2.17000000e+01 -7.36260524e-01]\n",
      " [ 1.91963183e+01  1.83000000e+01 -8.96318346e-01]\n",
      " [ 2.24338346e+01  2.31000000e+01  6.66165449e-01]\n",
      " [ 2.52197908e+01  2.38000000e+01 -1.41979081e+00]\n",
      " [ 2.59390956e+01  1.50000000e+01 -1.09390956e+01]\n",
      " [ 1.77016243e+01  2.08000000e+01  3.09837566e+00]\n",
      " [ 1.67691171e+01  1.91000000e+01  2.33088289e+00]\n",
      " [ 1.69512541e+01  1.94000000e+01  2.44874589e+00]\n",
      " [ 3.12334015e+01  3.47000000e+01  3.46659847e+00]\n",
      " [ 2.01324673e+01  1.95000000e+01 -6.32467285e-01]\n",
      " [ 2.37657901e+01  2.44000000e+01  6.34209889e-01]\n",
      " [ 2.46322925e+01  2.34000000e+01 -1.23229250e+00]\n",
      " [ 1.39420495e+01  1.97000000e+01  5.75795045e+00]\n",
      " [ 3.22557630e+01  2.82000000e+01 -4.05576301e+00]\n",
      " [ 4.26725116e+01  5.00000000e+01  7.32748839e+00]\n",
      " [ 1.73274505e+01  1.74000000e+01  7.25495357e-02]\n",
      " [ 2.72761861e+01  2.26000000e+01 -4.67618614e+00]\n",
      " [ 1.69931099e+01  1.51000000e+01 -1.89310991e+00]\n",
      " [ 1.40700911e+01  1.31000000e+01 -9.70091092e-01]\n",
      " [ 2.59034186e+01  2.42000000e+01 -1.70341861e+00]\n",
      " [ 2.02948598e+01  1.99000000e+01 -3.94859823e-01]\n",
      " [ 2.99533964e+01  2.40000000e+01 -5.95339638e+00]\n",
      " [ 2.12886017e+01  1.89000000e+01 -2.38860173e+00]\n",
      " [ 3.43445186e+01  3.54000000e+01  1.05548144e+00]\n",
      " [ 1.60473910e+01  1.52000000e+01 -8.47391050e-01]\n",
      " [ 2.62256241e+01  2.65000000e+01  2.74375884e-01]\n",
      " [ 3.95393980e+01  4.35000000e+01  3.96060202e+00]\n",
      " [ 2.25795070e+01  2.12000000e+01 -1.37950697e+00]\n",
      " [ 1.88453137e+01  1.84000000e+01 -4.45313666e-01]\n",
      " [ 3.27253166e+01  2.85000000e+01 -4.22531661e+00]\n",
      " [ 2.50673037e+01  2.39000000e+01 -1.16730370e+00]\n",
      " [ 1.28862896e+01  1.85000000e+01  5.61371044e+00]\n",
      " [ 2.26822191e+01  2.50000000e+01  2.31778092e+00]\n",
      " [ 3.04828776e+01  3.54000000e+01  4.91712243e+00]\n",
      " [ 3.15262681e+01  3.15000000e+01 -2.62680648e-02]\n",
      " [ 1.59014861e+01  2.02000000e+01  4.29851393e+00]\n",
      " [ 2.02209483e+01  2.41000000e+01  3.87905174e+00]\n",
      " [ 1.67108981e+01  2.00000000e+01  3.28910188e+00]\n",
      " [ 2.05238489e+01  1.31000000e+01 -7.42384893e+00]\n",
      " [ 2.59635626e+01  2.48000000e+01 -1.16356264e+00]\n",
      " [ 3.06160798e+01  3.08000000e+01  1.83920224e-01]\n",
      " [ 1.15978302e+01  1.27000000e+01  1.10216977e+00]\n",
      " [ 2.05123263e+01  2.00000000e+01 -5.12326274e-01]\n",
      " [ 2.74811188e+01  2.37000000e+01 -3.78111878e+00]\n",
      " [ 1.10196233e+01  1.08000000e+01 -2.19623322e-01]\n",
      " [ 1.56809634e+01  2.06000000e+01  4.91903656e+00]\n",
      " [ 2.37931625e+01  2.08000000e+01 -2.99316251e+00]\n",
      " [ 6.19929359e+00  5.00000000e+00 -1.19929359e+00]\n",
      " [ 2.16039073e+01  2.01000000e+01 -1.50390730e+00]\n",
      " [ 4.14137723e+01  4.85000000e+01  7.08622775e+00]\n",
      " [ 1.87654869e+01  1.09000000e+01 -7.86548695e+00]\n",
      " [ 8.87931901e+00  7.00000000e+00 -1.87931901e+00]\n",
      " [ 2.08307692e+01  2.09000000e+01  6.92308384e-02]\n",
      " [ 1.32562063e+01  1.72000000e+01  3.94379373e+00]\n",
      " [ 2.07396370e+01  2.09000000e+01  1.60363012e-01]\n",
      " [ 9.36482222e+00  9.70000000e+00  3.35177783e-01]\n",
      " [ 2.32244427e+01  1.94000000e+01 -3.82444271e+00]\n",
      " [ 3.19155003e+01  2.90000000e+01 -2.91550030e+00]\n",
      " [ 1.91022827e+01  1.64000000e+01 -2.70228271e+00]\n",
      " [ 2.55157930e+01  2.50000000e+01 -5.15793033e-01]\n",
      " [ 2.90425677e+01  2.50000000e+01 -4.04256769e+00]\n",
      " [ 2.01435857e+01  1.71000000e+01 -3.04358566e+00]\n",
      " [ 2.55859787e+01  2.32000000e+01 -2.38597870e+00]\n",
      " [ 5.70159447e+00  1.04000000e+01  4.69840553e+00]\n",
      " [ 2.00947476e+01  1.96000000e+01 -4.94747558e-01]\n",
      " [ 1.49506916e+01  1.72000000e+01  2.24930844e+00]\n",
      " [ 1.25039565e+01  2.75000000e+01  1.49960435e+01]\n",
      " [ 2.07263529e+01  2.30000000e+01  2.27364706e+00]\n",
      " [ 2.47395716e+01  5.00000000e+01  2.52604284e+01]\n",
      " [-1.64236996e-01  1.79000000e+01  1.80642370e+01]\n",
      " [ 1.36848668e+01  9.60000000e+00 -4.08486682e+00]\n",
      " [ 1.61835970e+01  1.72000000e+01  1.01640303e+00]\n",
      " [ 2.22762200e+01  2.25000000e+01  2.23780006e-01]\n",
      " [ 2.44790236e+01  2.14000000e+01 -3.07902364e+00]]\n"
     ]
    }
   ],
   "source": [
    "y_pred=regressor.predict(x_test)\n",
    "np.printoptions(precision=2)\n",
    "pred_diff=y_test.reshape(len(y_test),1)-y_pred.reshape(len(y_pred),1)\n",
    "print(np.concatenate((y_pred.reshape(len(y_pred),1),y_test.reshape(len(y_test),1),pred_diff),axis=1))\n"
   ]
  },
  {
   "cell_type": "code",
   "execution_count": 93,
   "metadata": {},
   "outputs": [
    {
     "name": "stdout",
     "output_type": "stream",
     "text": [
      "[-1.13055924e-01  3.01104641e-02  4.03807204e-02  2.78443820e+00\n",
      " -1.72026334e+01  4.43883520e+00 -6.29636221e-03 -1.44786537e+00\n",
      "  2.62429736e-01 -1.06467863e-02 -9.15456240e-01  1.23513347e-02\n",
      " -5.08571424e-01]\n",
      "30.246750993923698\n"
     ]
    }
   ],
   "source": [
    "print(regressor.coef_)\n",
    "print(regressor.intercept_)"
   ]
  },
  {
   "cell_type": "code",
   "execution_count": 15,
   "metadata": {},
   "outputs": [],
   "source": [
    "# d={'prediction':[y_pred.reshape(len(y_pred),1)],'Test set':[y_test],'prediction diff':[(y_test-y_pred)]}\n",
    "# print(pd.DataFrame([y_pred,y_test,y_test-y_pred],columns=['a','b','c']))"
   ]
  },
  {
   "cell_type": "markdown",
   "metadata": {},
   "source": [
    "visualising traing data"
   ]
  },
  {
   "cell_type": "code",
   "execution_count": 30,
   "metadata": {},
   "outputs": [
    {
     "data": {
      "text/plain": [
       "(1326, 102, 102)"
      ]
     },
     "execution_count": 30,
     "metadata": {},
     "output_type": "execute_result"
    }
   ],
   "source": [
    "x_test.size,y_test.size,pred_diff.size"
   ]
  },
  {
   "cell_type": "code",
   "execution_count": 33,
   "metadata": {},
   "outputs": [
    {
     "data": {
      "image/png": "[encoded data removed]",
      "text/plain": [
       "<Figure size 432x288 with 1 Axes>"
      ]
     },
     "metadata": {},
     "output_type": "display_data"
    }
   ],
   "source": [
    "stl.use('dark_background')\n",
    "plt.scatter(y_test,pred_diff,color='r')\n",
    "plt.scatter(y_pred,pred_diff,color='g')\n",
    "plt.title('Analysing house data')\n",
    "plt.xlabel('x_axis')\n",
    "plt.ylabel('y_axis')\n",
    "plt.show()"
   ]
  },
  {
   "cell_type": "code",
   "execution_count": 64,
   "metadata": {},
   "outputs": [
    {
     "data": {
      "text/plain": [
       "<matplotlib.axes._subplots.AxesSubplot at 0x25dbb6042c8>"
      ]
     },
     "execution_count": 64,
     "metadata": {},
     "output_type": "execute_result"
    },
    {
     "data": {
      "image/png": "[encoded data removed]",
      "text/plain": [
       "<Figure size 432x288 with 2 Axes>"
      ]
     },
     "metadata": {
      "needs_background": "light"
     },
     "output_type": "display_data"
    }
   ],
   "source": [
    "# sns.heatmap(df.corr())"
   ]
  },
  {
   "cell_type": "code",
   "execution_count": null,
   "metadata": {},
   "outputs": [],
   "source": []
  }
 ],
 "metadata": {
  "kernelspec": {
   "display_name": "Python 3",
   "language": "python",
   "name": "python3"
  },
  "language_info": {
   "codemirror_mode": {
    "name": "ipython",
    "version": 3
   },
   "file_extension": ".py",
   "mimetype": "text/x-python",
   "name": "python",
   "nbconvert_exporter": "python",
   "pygments_lexer": "ipython3",
   "version": "3.7.5"
  }
 },
 "nbformat": 4,
 "nbformat_minor": 4
}
