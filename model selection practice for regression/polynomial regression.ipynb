{
 "cells": [
  {
   "cell_type": "code",
   "execution_count": 20,
   "metadata": {},
   "outputs": [
    {
     "name": "stderr",
     "output_type": "stream",
     "text": [
      "C:\\Users\\anshu\\Anaconda3\\lib\\importlib\\_bootstrap.py:219: RuntimeWarning: numpy.ufunc size changed, may indicate binary incompatibility. Expected 192 from C header, got 216 from PyObject\n",
      "  return f(*args, **kwds)\n"
     ]
    }
   ],
   "source": [
    "import numpy as np\n",
    "import pandas as pd\n",
    "import matplotlib.pyplot as plt\n",
    "from sklearn.metrics import r2_score"
   ]
  },
  {
   "cell_type": "code",
   "execution_count": 21,
   "metadata": {},
   "outputs": [],
   "source": [
    "df=pd.read_csv('Data.csv')"
   ]
  },
  {
   "cell_type": "code",
   "execution_count": 22,
   "metadata": {},
   "outputs": [],
   "source": [
    "x=df.iloc[:,:-1].values\n",
    "y=df.iloc[:,-1].values"
   ]
  },
  {
   "cell_type": "code",
   "execution_count": 23,
   "metadata": {},
   "outputs": [],
   "source": [
    "from sklearn.model_selection import train_test_split\n",
    "valid=0.20\n",
    "seed=1\n",
    "x_train,x_test,y_train,y_test=train_test_split(x,y,test_size=valid,random_state=seed)"
   ]
  },
  {
   "cell_type": "markdown",
   "metadata": {},
   "source": [
    "Training model with polynomial regression"
   ]
  },
  {
   "cell_type": "code",
   "execution_count": 24,
   "metadata": {},
   "outputs": [
    {
     "data": {
      "text/plain": [
       "LinearRegression(copy_X=True, fit_intercept=True, n_jobs=None, normalize=False)"
      ]
     },
     "execution_count": 24,
     "metadata": {},
     "output_type": "execute_result"
    }
   ],
   "source": [
    "from sklearn.preprocessing import PolynomialFeatures\n",
    "from sklearn.linear_model import LinearRegression\n",
    "polyreg=PolynomialFeatures(degree=5)\n",
    "x_poly=polyreg.fit_transform(x_train)\n",
    "regressor=LinearRegression()\n",
    "regressor.fit(x_poly,y_train)"
   ]
  },
  {
   "cell_type": "code",
   "execution_count": 25,
   "metadata": {},
   "outputs": [
    {
     "name": "stdout",
     "output_type": "stream",
     "text": [
      "[[-3.49e+02  7.80e+01]\n",
      " [ 7.75e+01  1.52e+02]\n",
      " [ 4.26e+02  2.00e+02]\n",
      " [ 1.92e+02  5.90e+01]\n",
      " [ 2.44e+02  3.11e+02]\n",
      " [ 2.19e+02  1.78e+02]\n",
      " [ 1.40e+02  3.32e+02]\n",
      " [ 2.02e+02  1.32e+02]\n",
      " [-4.83e+02  1.56e+02]\n",
      " [ 1.07e+02  1.35e+02]\n",
      " [ 1.06e+01  2.20e+02]\n",
      " [ 9.98e+02  2.33e+02]\n",
      " [ 2.05e+02  9.10e+01]\n",
      " [ 3.18e+02  5.10e+01]\n",
      " [ 3.75e+02  1.95e+02]\n",
      " [ 1.52e+02  1.09e+02]\n",
      " [ 4.09e+02  2.17e+02]\n",
      " [-1.75e+01  9.40e+01]\n",
      " [-1.63e+02  8.90e+01]\n",
      " [ 1.42e+02  1.11e+02]\n",
      " [ 1.95e+02  1.29e+02]\n",
      " [ 1.59e+01  1.81e+02]\n",
      " [ 2.33e+02  1.68e+02]\n",
      " [ 9.93e+01  9.70e+01]\n",
      " [ 9.87e+01  1.15e+02]\n",
      " [ 4.08e+02  2.02e+02]\n",
      " [ 9.10e+01  8.40e+01]\n",
      " [ 9.10e+01  1.47e+02]\n",
      " [-2.37e+02  2.53e+02]\n",
      " [ 2.64e+02  1.44e+02]\n",
      " [-2.06e+01  2.62e+02]\n",
      " [-9.83e+01  1.15e+02]\n",
      " [ 4.40e+02  6.80e+01]\n",
      " [ 3.03e+02  6.50e+01]\n",
      " [-7.99e+02  2.52e+02]\n",
      " [ 2.19e+02  2.12e+02]\n",
      " [-5.06e+02  1.42e+02]\n",
      " [ 1.05e+02  2.15e+02]\n",
      " [-6.45e+01  1.80e+02]\n",
      " [ 4.29e+00  1.63e+02]\n",
      " [ 3.47e+02  1.51e+02]\n",
      " [-1.18e+03  2.83e+02]\n",
      " [ 2.36e+02  6.60e+01]\n",
      " [ 2.43e+02  8.30e+01]\n",
      " [ 2.15e+02  2.14e+02]\n",
      " [-3.75e+02  1.89e+02]\n",
      " [ 7.18e+02  3.02e+02]\n",
      " [ 5.22e+01  9.30e+01]\n",
      " [-7.56e-01  1.78e+02]\n",
      " [-6.06e+02  2.41e+02]\n",
      " [ 2.60e+02  5.20e+01]\n",
      " [-1.38e+02  1.44e+02]\n",
      " [-2.17e+01  1.02e+02]\n",
      " [ 1.98e+02  2.00e+02]\n",
      " [ 1.87e+02  2.32e+02]\n",
      " [ 1.64e+02  9.70e+01]\n",
      " [-3.54e+02  1.09e+02]\n",
      " [-3.25e+01  5.50e+01]\n",
      " [ 7.91e+01  6.30e+01]\n",
      " [-4.27e+01  9.80e+01]\n",
      " [ 2.28e+02  8.80e+01]\n",
      " [ 9.18e+02  2.33e+02]\n",
      " [ 4.63e+02  2.35e+02]\n",
      " [ 1.12e+02  9.70e+01]\n",
      " [-5.06e+01  2.43e+02]\n",
      " [-1.08e+02  5.90e+01]\n",
      " [-4.95e+01  1.38e+02]\n",
      " [ 7.91e+02  2.20e+02]\n",
      " [ 4.00e+02  1.37e+02]\n",
      " [ 2.74e+02  7.20e+01]\n",
      " [ 2.79e+03  1.09e+02]\n",
      " [ 3.95e+02  7.10e+01]\n",
      " [-1.78e+02  7.40e+01]\n",
      " [ 1.03e+02  2.19e+02]\n",
      " [ 1.37e+02  1.96e+02]\n",
      " [ 3.90e+02  1.70e+02]\n",
      " [ 2.65e+02  1.99e+02]\n",
      " [ 8.84e+01  7.10e+01]\n",
      " [ 1.98e+02  1.55e+02]\n",
      " [ 5.14e+02  5.20e+01]\n",
      " [-2.82e+01  6.30e+01]\n",
      " [ 9.49e+01  8.80e+01]\n",
      " [ 5.44e+01  9.70e+01]\n",
      " [ 1.81e+02  1.00e+02]\n",
      " [-3.64e+02  6.40e+01]\n",
      " [ 1.17e+02  1.07e+02]\n",
      " [ 2.34e+02  4.90e+01]\n",
      " [ 3.33e+02  6.00e+01]\n",
      " [-2.21e+03  3.46e+02]]\n"
     ]
    }
   ],
   "source": [
    "y_pred=regressor.predict(polyreg.transform(x_test))\n",
    "np.set_printoptions(precision=2)\n",
    "print(np.concatenate((y_pred.reshape(len(y_pred),1),y_test.reshape(len(y_test),1)),1))"
   ]
  },
  {
   "cell_type": "code",
   "execution_count": 26,
   "metadata": {},
   "outputs": [
    {
     "data": {
      "text/plain": [
       "-48.115561041813535"
      ]
     },
     "execution_count": 26,
     "metadata": {},
     "output_type": "execute_result"
    }
   ],
   "source": [
    "r2_score(y_test,y_pred)"
   ]
  },
  {
   "cell_type": "code",
   "execution_count": null,
   "metadata": {},
   "outputs": [],
   "source": []
  }
 ],
 "metadata": {
  "kernelspec": {
   "display_name": "Python 3",
   "language": "python",
   "name": "python3"
  },
  "language_info": {
   "codemirror_mode": {
    "name": "ipython",
    "version": 3
   },
   "file_extension": ".py",
   "mimetype": "text/x-python",
   "name": "python",
   "nbconvert_exporter": "python",
   "pygments_lexer": "ipython3",
   "version": "3.7.5"
  }
 },
 "nbformat": 4,
 "nbformat_minor": 4
}
